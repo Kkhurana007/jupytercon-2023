{
  "cells": [
    {
      "cell_type": "raw",
      "metadata": {},
      "source": [
        "---\n",
        "title: Palmer Penguins\n",
        "author: Norah Jones\n",
        "date: 'March 12, 2023'\n",
        "format:\n",
        "  html:\n",
        "    code-tools: true\n",
        "    code-fold: true\n",
        "execute:\n",
        "  cache: true\n",
        "---"
      ],
      "id": "b029fd07"
    },
    {
      "cell_type": "markdown",
      "metadata": {},
      "source": [
        "# Palmer Penguins\n",
        "\n",
        "## Here is a table\n",
        "\n",
        "| Col1 | Col2 | Col3 |\n",
        "|------|------|------|\n",
        "|      |      |      |\n",
        "|      |      |      |\n",
        "|      |      |      |\n"
      ],
      "id": "3ddc216e"
    },
    {
      "cell_type": "code",
      "metadata": {},
      "source": [
        "#| echo: false\n",
        "import pandas as pd\n",
        "df = pd.read_csv(\"palmer-penguins.csv\") \n",
        "df = df[[\"species\", \"island\", \"year\", \"bill_length_mm\", \"bill_depth_mm\"]]\n",
        "\n",
        "import time\n",
        "time.sleep(3)"
      ],
      "id": "0eeb04ed",
      "execution_count": null,
      "outputs": []
    },
    {
      "cell_type": "markdown",
      "metadata": {},
      "source": [
        "## Exploring the Data\n",
        "\n",
        "See @fig-bill-sizes for an exploration of bill sizes by species.\n"
      ],
      "id": "5bf799db"
    },
    {
      "cell_type": "code",
      "metadata": {},
      "source": [
        "#| label: fig-bill-sizes\n",
        "#| fig-cap: Bill Sizes by Species\n",
        "import matplotlib.pyplot as plt\n",
        "import seaborn as sns\n",
        "g = sns.FacetGrid(df, hue=\"species\", height=5, aspect=3.5/2)\n",
        "g.map(plt.scatter, \"bill_length_mm\", \"bill_depth_mm\").add_legend()"
      ],
      "id": "fig-bill-sizes",
      "execution_count": null,
      "outputs": []
    }
  ],
  "metadata": {
    "kernelspec": {
      "name": "python3",
      "language": "python",
      "display_name": "Python 3 (ipykernel)"
    }
  },
  "nbformat": 4,
  "nbformat_minor": 5
}